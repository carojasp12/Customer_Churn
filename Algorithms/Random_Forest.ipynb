{
 "cells": [
  {
   "cell_type": "code",
   "execution_count": 1,
   "metadata": {},
   "outputs": [],
   "source": [
    "# Import Dependencies\n",
    "import pandas as pd\n",
    "import numpy as np\n",
    "import sqlite3\n",
    "from sklearn.preprocessing import StandardScaler\n",
    "from sklearn.model_selection import train_test_split\n",
    "from sklearn.ensemble import RandomForestClassifier\n",
    "from sklearn.model_selection import KFold\n",
    "from sklearn.metrics import confusion_matrix, accuracy_score, classification_report, f1_score"
   ]
  },
  {
   "cell_type": "markdown",
   "metadata": {},
   "source": [
    "### Load/Preprocess Customer Churn Training Datasets ###"
   ]
  },
  {
   "cell_type": "code",
   "execution_count": 2,
   "metadata": {},
   "outputs": [
    {
     "data": {
      "text/html": [
       "<div>\n",
       "<style scoped>\n",
       "    .dataframe tbody tr th:only-of-type {\n",
       "        vertical-align: middle;\n",
       "    }\n",
       "\n",
       "    .dataframe tbody tr th {\n",
       "        vertical-align: top;\n",
       "    }\n",
       "\n",
       "    .dataframe thead th {\n",
       "        text-align: right;\n",
       "    }\n",
       "</style>\n",
       "<table border=\"1\" class=\"dataframe\">\n",
       "  <thead>\n",
       "    <tr style=\"text-align: right;\">\n",
       "      <th></th>\n",
       "      <th>age</th>\n",
       "      <th>female</th>\n",
       "      <th>male</th>\n",
       "      <th>tenure</th>\n",
       "      <th>basic_subscription</th>\n",
       "      <th>standard_subscription</th>\n",
       "      <th>premium_subscription</th>\n",
       "      <th>monthly_contract</th>\n",
       "      <th>quarterly_contract</th>\n",
       "      <th>annual_contract</th>\n",
       "      <th>total_spend</th>\n",
       "      <th>payment_delay</th>\n",
       "      <th>usage_frequency</th>\n",
       "      <th>last_interaction</th>\n",
       "      <th>support_calls</th>\n",
       "      <th>churn</th>\n",
       "    </tr>\n",
       "  </thead>\n",
       "  <tbody>\n",
       "    <tr>\n",
       "      <th>0</th>\n",
       "      <td>30.0</td>\n",
       "      <td>1.0</td>\n",
       "      <td>0.0</td>\n",
       "      <td>39.0</td>\n",
       "      <td>0.0</td>\n",
       "      <td>1.0</td>\n",
       "      <td>0.0</td>\n",
       "      <td>0.0</td>\n",
       "      <td>0.0</td>\n",
       "      <td>1.0</td>\n",
       "      <td>932.0</td>\n",
       "      <td>18.0</td>\n",
       "      <td>14.0</td>\n",
       "      <td>17.0</td>\n",
       "      <td>5.0</td>\n",
       "      <td>1.0</td>\n",
       "    </tr>\n",
       "    <tr>\n",
       "      <th>1</th>\n",
       "      <td>65.0</td>\n",
       "      <td>1.0</td>\n",
       "      <td>0.0</td>\n",
       "      <td>49.0</td>\n",
       "      <td>1.0</td>\n",
       "      <td>0.0</td>\n",
       "      <td>0.0</td>\n",
       "      <td>1.0</td>\n",
       "      <td>0.0</td>\n",
       "      <td>0.0</td>\n",
       "      <td>557.0</td>\n",
       "      <td>8.0</td>\n",
       "      <td>1.0</td>\n",
       "      <td>6.0</td>\n",
       "      <td>10.0</td>\n",
       "      <td>1.0</td>\n",
       "    </tr>\n",
       "    <tr>\n",
       "      <th>2</th>\n",
       "      <td>55.0</td>\n",
       "      <td>1.0</td>\n",
       "      <td>0.0</td>\n",
       "      <td>14.0</td>\n",
       "      <td>1.0</td>\n",
       "      <td>0.0</td>\n",
       "      <td>0.0</td>\n",
       "      <td>0.0</td>\n",
       "      <td>1.0</td>\n",
       "      <td>0.0</td>\n",
       "      <td>185.0</td>\n",
       "      <td>18.0</td>\n",
       "      <td>4.0</td>\n",
       "      <td>3.0</td>\n",
       "      <td>6.0</td>\n",
       "      <td>1.0</td>\n",
       "    </tr>\n",
       "    <tr>\n",
       "      <th>3</th>\n",
       "      <td>58.0</td>\n",
       "      <td>0.0</td>\n",
       "      <td>1.0</td>\n",
       "      <td>38.0</td>\n",
       "      <td>0.0</td>\n",
       "      <td>1.0</td>\n",
       "      <td>0.0</td>\n",
       "      <td>1.0</td>\n",
       "      <td>0.0</td>\n",
       "      <td>0.0</td>\n",
       "      <td>396.0</td>\n",
       "      <td>7.0</td>\n",
       "      <td>21.0</td>\n",
       "      <td>29.0</td>\n",
       "      <td>7.0</td>\n",
       "      <td>1.0</td>\n",
       "    </tr>\n",
       "    <tr>\n",
       "      <th>4</th>\n",
       "      <td>23.0</td>\n",
       "      <td>0.0</td>\n",
       "      <td>1.0</td>\n",
       "      <td>32.0</td>\n",
       "      <td>1.0</td>\n",
       "      <td>0.0</td>\n",
       "      <td>0.0</td>\n",
       "      <td>1.0</td>\n",
       "      <td>0.0</td>\n",
       "      <td>0.0</td>\n",
       "      <td>617.0</td>\n",
       "      <td>8.0</td>\n",
       "      <td>20.0</td>\n",
       "      <td>20.0</td>\n",
       "      <td>5.0</td>\n",
       "      <td>1.0</td>\n",
       "    </tr>\n",
       "  </tbody>\n",
       "</table>\n",
       "</div>"
      ],
      "text/plain": [
       "    age  female  male  tenure  basic_subscription  standard_subscription  \\\n",
       "0  30.0     1.0   0.0    39.0                 0.0                    1.0   \n",
       "1  65.0     1.0   0.0    49.0                 1.0                    0.0   \n",
       "2  55.0     1.0   0.0    14.0                 1.0                    0.0   \n",
       "3  58.0     0.0   1.0    38.0                 0.0                    1.0   \n",
       "4  23.0     0.0   1.0    32.0                 1.0                    0.0   \n",
       "\n",
       "   premium_subscription  monthly_contract  quarterly_contract  \\\n",
       "0                   0.0               0.0                 0.0   \n",
       "1                   0.0               1.0                 0.0   \n",
       "2                   0.0               0.0                 1.0   \n",
       "3                   0.0               1.0                 0.0   \n",
       "4                   0.0               1.0                 0.0   \n",
       "\n",
       "   annual_contract  total_spend  payment_delay  usage_frequency  \\\n",
       "0              1.0        932.0           18.0             14.0   \n",
       "1              0.0        557.0            8.0              1.0   \n",
       "2              0.0        185.0           18.0              4.0   \n",
       "3              0.0        396.0            7.0             21.0   \n",
       "4              0.0        617.0            8.0             20.0   \n",
       "\n",
       "   last_interaction  support_calls  churn  \n",
       "0              17.0            5.0    1.0  \n",
       "1               6.0           10.0    1.0  \n",
       "2               3.0            6.0    1.0  \n",
       "3              29.0            7.0    1.0  \n",
       "4              20.0            5.0    1.0  "
      ]
     },
     "execution_count": 2,
     "metadata": {},
     "output_type": "execute_result"
    }
   ],
   "source": [
    "# Load 'customer_churn_training' Into Pandas DataFrame\n",
    "conn=sqlite3.connect('Resources/customer_churn_data.db')\n",
    "query = \"SELECT * FROM customer_churn_complete\"\n",
    "customer_churn_complete = pd.read_sql(query, conn)\n",
    "conn.close()\n",
    "\n",
    "# Check That 'customer_churn_training' Loaded Succesfully\n",
    "customer_churn_complete.head()"
   ]
  },
  {
   "cell_type": "code",
   "execution_count": 3,
   "metadata": {},
   "outputs": [],
   "source": [
    "# Define Features Set\n",
    "X = customer_churn_complete.drop(columns=['churn'])\n",
    "\n",
    "# Define Target\n",
    "y = customer_churn_complete['churn']\n",
    "\n",
    "# Split Into Train And Test Sets\n",
    "X_train, X_test, y_train, y_test = train_test_split(X, y, random_state=5, stratify=y)"
   ]
  },
  {
   "cell_type": "code",
   "execution_count": 4,
   "metadata": {},
   "outputs": [
    {
     "data": {
      "text/html": [
       "<div>\n",
       "<style scoped>\n",
       "    .dataframe tbody tr th:only-of-type {\n",
       "        vertical-align: middle;\n",
       "    }\n",
       "\n",
       "    .dataframe tbody tr th {\n",
       "        vertical-align: top;\n",
       "    }\n",
       "\n",
       "    .dataframe thead th {\n",
       "        text-align: right;\n",
       "    }\n",
       "</style>\n",
       "<table border=\"1\" class=\"dataframe\">\n",
       "  <thead>\n",
       "    <tr style=\"text-align: right;\">\n",
       "      <th></th>\n",
       "      <th>0</th>\n",
       "      <th>1</th>\n",
       "      <th>2</th>\n",
       "      <th>3</th>\n",
       "      <th>4</th>\n",
       "      <th>5</th>\n",
       "      <th>6</th>\n",
       "      <th>7</th>\n",
       "      <th>8</th>\n",
       "      <th>9</th>\n",
       "      <th>10</th>\n",
       "      <th>11</th>\n",
       "      <th>12</th>\n",
       "      <th>13</th>\n",
       "      <th>14</th>\n",
       "    </tr>\n",
       "  </thead>\n",
       "  <tbody>\n",
       "    <tr>\n",
       "      <th>0</th>\n",
       "      <td>-1.003381</td>\n",
       "      <td>1.115437</td>\n",
       "      <td>-1.115437</td>\n",
       "      <td>-0.947490</td>\n",
       "      <td>1.440753</td>\n",
       "      <td>-0.714332</td>\n",
       "      <td>-0.712967</td>\n",
       "      <td>-0.525262</td>\n",
       "      <td>1.248400</td>\n",
       "      <td>-0.804484</td>\n",
       "      <td>-0.315676</td>\n",
       "      <td>-1.478292</td>\n",
       "      <td>0.033855</td>\n",
       "      <td>-0.883825</td>\n",
       "      <td>-0.585243</td>\n",
       "    </tr>\n",
       "    <tr>\n",
       "      <th>1</th>\n",
       "      <td>-1.319131</td>\n",
       "      <td>1.115437</td>\n",
       "      <td>-1.115437</td>\n",
       "      <td>-0.367163</td>\n",
       "      <td>1.440753</td>\n",
       "      <td>-0.714332</td>\n",
       "      <td>-0.712967</td>\n",
       "      <td>-0.525262</td>\n",
       "      <td>-0.801025</td>\n",
       "      <td>1.243033</td>\n",
       "      <td>1.541560</td>\n",
       "      <td>0.532709</td>\n",
       "      <td>1.658720</td>\n",
       "      <td>-0.302919</td>\n",
       "      <td>-0.585243</td>\n",
       "    </tr>\n",
       "    <tr>\n",
       "      <th>2</th>\n",
       "      <td>0.654306</td>\n",
       "      <td>-0.896510</td>\n",
       "      <td>0.896510</td>\n",
       "      <td>-0.193065</td>\n",
       "      <td>1.440753</td>\n",
       "      <td>-0.714332</td>\n",
       "      <td>-0.712967</td>\n",
       "      <td>1.903813</td>\n",
       "      <td>-0.801025</td>\n",
       "      <td>-0.804484</td>\n",
       "      <td>0.745311</td>\n",
       "      <td>1.833945</td>\n",
       "      <td>-0.198268</td>\n",
       "      <td>-0.302919</td>\n",
       "      <td>1.647099</td>\n",
       "    </tr>\n",
       "    <tr>\n",
       "      <th>3</th>\n",
       "      <td>0.338556</td>\n",
       "      <td>-0.896510</td>\n",
       "      <td>0.896510</td>\n",
       "      <td>0.735458</td>\n",
       "      <td>-0.694082</td>\n",
       "      <td>1.399910</td>\n",
       "      <td>-0.712967</td>\n",
       "      <td>1.903813</td>\n",
       "      <td>-0.801025</td>\n",
       "      <td>-0.804484</td>\n",
       "      <td>0.194626</td>\n",
       "      <td>1.360768</td>\n",
       "      <td>0.614164</td>\n",
       "      <td>-0.651463</td>\n",
       "      <td>0.371475</td>\n",
       "    </tr>\n",
       "    <tr>\n",
       "      <th>4</th>\n",
       "      <td>0.417493</td>\n",
       "      <td>-0.896510</td>\n",
       "      <td>0.896510</td>\n",
       "      <td>0.039066</td>\n",
       "      <td>-0.694082</td>\n",
       "      <td>1.399910</td>\n",
       "      <td>-0.712967</td>\n",
       "      <td>-0.525262</td>\n",
       "      <td>-0.801025</td>\n",
       "      <td>1.243033</td>\n",
       "      <td>0.717613</td>\n",
       "      <td>0.059532</td>\n",
       "      <td>-0.778577</td>\n",
       "      <td>1.091258</td>\n",
       "      <td>-0.266337</td>\n",
       "    </tr>\n",
       "  </tbody>\n",
       "</table>\n",
       "</div>"
      ],
      "text/plain": [
       "         0         1         2         3         4         5         6   \\\n",
       "0 -1.003381  1.115437 -1.115437 -0.947490  1.440753 -0.714332 -0.712967   \n",
       "1 -1.319131  1.115437 -1.115437 -0.367163  1.440753 -0.714332 -0.712967   \n",
       "2  0.654306 -0.896510  0.896510 -0.193065  1.440753 -0.714332 -0.712967   \n",
       "3  0.338556 -0.896510  0.896510  0.735458 -0.694082  1.399910 -0.712967   \n",
       "4  0.417493 -0.896510  0.896510  0.039066 -0.694082  1.399910 -0.712967   \n",
       "\n",
       "         7         8         9         10        11        12        13  \\\n",
       "0 -0.525262  1.248400 -0.804484 -0.315676 -1.478292  0.033855 -0.883825   \n",
       "1 -0.525262 -0.801025  1.243033  1.541560  0.532709  1.658720 -0.302919   \n",
       "2  1.903813 -0.801025 -0.804484  0.745311  1.833945 -0.198268 -0.302919   \n",
       "3  1.903813 -0.801025 -0.804484  0.194626  1.360768  0.614164 -0.651463   \n",
       "4 -0.525262 -0.801025  1.243033  0.717613  0.059532 -0.778577  1.091258   \n",
       "\n",
       "         14  \n",
       "0 -0.585243  \n",
       "1 -0.585243  \n",
       "2  1.647099  \n",
       "3  0.371475  \n",
       "4 -0.266337  "
      ]
     },
     "execution_count": 4,
     "metadata": {},
     "output_type": "execute_result"
    }
   ],
   "source": [
    "# Create StandardScaler Instance\n",
    "scaler = StandardScaler()\n",
    "\n",
    "# Fit Standard Scaler\n",
    "X_scaler = scaler.fit(X_train)\n",
    "\n",
    "# Scale Training And Testing Data\n",
    "X_train_scaled = X_scaler.transform(X_train)\n",
    "X_test_scaled = X_scaler.transform(X_test)\n",
    "\n",
    "X_train_scaled_df = pd.DataFrame(X_train_scaled)\n",
    "X_train_scaled_df.head()"
   ]
  },
  {
   "cell_type": "markdown",
   "metadata": {},
   "source": [
    "### Fit Random Forest Model ###"
   ]
  },
  {
   "cell_type": "code",
   "execution_count": 5,
   "metadata": {},
   "outputs": [],
   "source": [
    "# Create Random Forest Classifier\n",
    "rf_model = RandomForestClassifier(random_state=5)\n",
    "\n",
    "# Fit The Model\n",
    "rf_model = rf_model.fit(X_train_scaled, y_train)"
   ]
  },
  {
   "cell_type": "markdown",
   "metadata": {},
   "source": [
    "### Make Predictions Using the Random Forest Model ###"
   ]
  },
  {
   "cell_type": "code",
   "execution_count": 6,
   "metadata": {},
   "outputs": [],
   "source": [
    "# Make Predictions Using The Testing Data\n",
    "predictions = rf_model.predict(X_test_scaled)"
   ]
  },
  {
   "cell_type": "markdown",
   "metadata": {},
   "source": [
    "### Model Evaluation: Confusion Matrix and Classification Report ###"
   ]
  },
  {
   "cell_type": "code",
   "execution_count": 7,
   "metadata": {},
   "outputs": [
    {
     "name": "stdout",
     "output_type": "stream",
     "text": [
      "Confusion Matrix\n"
     ]
    },
    {
     "data": {
      "text/html": [
       "<div>\n",
       "<style scoped>\n",
       "    .dataframe tbody tr th:only-of-type {\n",
       "        vertical-align: middle;\n",
       "    }\n",
       "\n",
       "    .dataframe tbody tr th {\n",
       "        vertical-align: top;\n",
       "    }\n",
       "\n",
       "    .dataframe thead th {\n",
       "        text-align: right;\n",
       "    }\n",
       "</style>\n",
       "<table border=\"1\" class=\"dataframe\">\n",
       "  <thead>\n",
       "    <tr style=\"text-align: right;\">\n",
       "      <th></th>\n",
       "      <th>Predicted 0</th>\n",
       "      <th>Predicted 1</th>\n",
       "    </tr>\n",
       "  </thead>\n",
       "  <tbody>\n",
       "    <tr>\n",
       "      <th>Actual 0</th>\n",
       "      <td>48266</td>\n",
       "      <td>7913</td>\n",
       "    </tr>\n",
       "    <tr>\n",
       "      <th>Actual 1</th>\n",
       "      <td>252</td>\n",
       "      <td>69871</td>\n",
       "    </tr>\n",
       "  </tbody>\n",
       "</table>\n",
       "</div>"
      ],
      "text/plain": [
       "          Predicted 0  Predicted 1\n",
       "Actual 0        48266         7913\n",
       "Actual 1          252        69871"
      ]
     },
     "metadata": {},
     "output_type": "display_data"
    },
    {
     "name": "stdout",
     "output_type": "stream",
     "text": [
      "Accuracy Score : 0.935353359408402\n",
      "\n",
      "Classification Report\n",
      "              precision    recall  f1-score   support\n",
      "\n",
      "         0.0       0.99      0.86      0.92     56179\n",
      "         1.0       0.90      1.00      0.94     70123\n",
      "\n",
      "    accuracy                           0.94    126302\n",
      "   macro avg       0.95      0.93      0.93    126302\n",
      "weighted avg       0.94      0.94      0.93    126302\n",
      "\n"
     ]
    }
   ],
   "source": [
    "# Calculate The Confusion Matrix\n",
    "confusion_matrix = confusion_matrix(y_test, predictions)\n",
    "confusion_matrix_df = pd.DataFrame(confusion_matrix,\n",
    "                                   index=['Actual 0', 'Actual 1'],\n",
    "                                   columns=['Predicted 0', 'Predicted 1'])\n",
    "\n",
    "# Calculate The Accuracy Score\n",
    "accuracy_score_confusion_matrix = accuracy_score(y_test, predictions)\n",
    "\n",
    "# Display Results\n",
    "print('Confusion Matrix')\n",
    "display(confusion_matrix_df)\n",
    "print(f'Accuracy Score : {accuracy_score_confusion_matrix}')\n",
    "print('\\nClassification Report')\n",
    "print(classification_report(y_test, predictions))"
   ]
  },
  {
   "cell_type": "markdown",
   "metadata": {},
   "source": [
    "Based on the Confusion Matrix:\n",
    "  - 56179 staying customers: 48266 correctly predicted and 7913 incorrectly predicted\n",
    "  - 70123 churned customers: 69871 correctly predicted and 252 incorrectly predicted\n",
    "\n",
    "Based on the Classification Report:\n",
    "  1. Precision:\n",
    "      - model correctly predicts customer to: stay 99% of the time, churn 90% of the time\n",
    "  2. Recall:\n",
    "      - model correctly identifies: 86% of all staying customers, 100% of churned customers\n",
    "  3. F1-Score:\n",
    "      - balance between precision and recall\n",
    "  4. Support:\n",
    "      - 56179 staying customers 70123 churned customers in the dataset\n",
    "\n",
    "In summary:\n",
    "  - The model has high precision, recall, and F1-score for both classes, indicating good overall performance"
   ]
  },
  {
   "cell_type": "markdown",
   "metadata": {},
   "source": [
    "### Feature Importance ###"
   ]
  },
  {
   "cell_type": "code",
   "execution_count": 8,
   "metadata": {},
   "outputs": [
    {
     "data": {
      "text/plain": [
       "[(0.262759340709975, 'support_calls'),\n",
       " (0.1786445367578004, 'total_spend'),\n",
       " (0.1425905690560615, 'payment_delay'),\n",
       " (0.12818447604263894, 'age'),\n",
       " (0.0694819729318956, 'last_interaction'),\n",
       " (0.06578445340998139, 'monthly_contract'),\n",
       " (0.0431935233282975, 'tenure'),\n",
       " (0.0330395213356618, 'usage_frequency'),\n",
       " (0.02054205916249044, 'annual_contract'),\n",
       " (0.017928920504622546, 'quarterly_contract'),\n",
       " (0.015775301848203797, 'male'),\n",
       " (0.012766593339895218, 'female'),\n",
       " (0.0033795304641979, 'basic_subscription'),\n",
       " (0.0029677654900235407, 'premium_subscription'),\n",
       " (0.002961435618254536, 'standard_subscription')]"
      ]
     },
     "execution_count": 8,
     "metadata": {},
     "output_type": "execute_result"
    }
   ],
   "source": [
    "# Sort Features By Importance\n",
    "importances = rf_model.feature_importances_\n",
    "sorted(zip(rf_model.feature_importances_, X.columns), reverse=True)"
   ]
  },
  {
   "cell_type": "code",
   "execution_count": 9,
   "metadata": {},
   "outputs": [
    {
     "data": {
      "text/plain": [
       "<Axes: title={'center': 'Features Importances'}, ylabel='1'>"
      ]
     },
     "execution_count": 9,
     "metadata": {},
     "output_type": "execute_result"
    },
    {
     "data": {
      "image/png": "[encoded data removed]",
      "text/plain": [
       "<Figure size 640x480 with 1 Axes>"
      ]
     },
     "metadata": {},
     "output_type": "display_data"
    }
   ],
   "source": [
    "# Visualize The Features By Importance\n",
    "importances_df = pd.DataFrame(sorted(zip(rf_model.feature_importances_, X.columns), reverse=True))\n",
    "importances_df.set_index(importances_df[1], inplace=True)\n",
    "importances_df.drop(columns=1, inplace=True)\n",
    "importances_df.rename(columns={0: 'Feature Importances'}, inplace=True)\n",
    "importances_sorted = importances_df.sort_values(by='Feature Importances')\n",
    "importances_sorted.plot(kind='barh', color='lightgreen', title= 'Features Importances', legend=False)"
   ]
  },
  {
   "cell_type": "markdown",
   "metadata": {},
   "source": [
    "### Model Evaluation: Cross-Validation ###"
   ]
  },
  {
   "cell_type": "code",
   "execution_count": 10,
   "metadata": {},
   "outputs": [
    {
     "name": "stdout",
     "output_type": "stream",
     "text": [
      "Mean Accuracy: 0.935459991982985\n",
      "Standard Deviation of Accuracy: 0.0014014952260578862\n",
      "\n",
      "Mean F1 Score: 0.9449233464865401\n",
      "Standard Deviation of F1 Score: 0.0011500458828311766\n"
     ]
    }
   ],
   "source": [
    "# Establish Cross-Validation DataFrame Along With Features And Target Column Names\n",
    "customer_churn_cross_validation = customer_churn_complete.copy()\n",
    "feature_columns = customer_churn_cross_validation.columns.drop('churn')\n",
    "target_column = 'churn'\n",
    "\n",
    "# Initialize KFold Cross-Validation\n",
    "kf = KFold(n_splits=20, shuffle=True, random_state=5)\n",
    "\n",
    "# Initialize List To Store Cross-Validation Scores\n",
    "cross_validation_accuracy_scores = []\n",
    "cross_validation_f1_scores = []\n",
    "\n",
    "# Perform Cross-Validation\n",
    "for train_index, test_index in kf.split(customer_churn_cross_validation):\n",
    "    X_train, X_test = customer_churn_cross_validation[feature_columns].iloc[train_index], customer_churn_cross_validation[feature_columns].iloc[test_index]\n",
    "    y_train, y_test = customer_churn_cross_validation[target_column].iloc[train_index], customer_churn_cross_validation[target_column].iloc[test_index]\n",
    "    rf_model.fit(X_train, y_train)\n",
    "    y_pred = rf_model.predict(X_test)\n",
    "    accuracy = accuracy_score(y_test, y_pred)\n",
    "    cross_validation_accuracy_scores.append(accuracy)\n",
    "    f1_scores = f1_score(y_test, y_pred)\n",
    "    cross_validation_f1_scores.append(f1_scores)\n",
    "\n",
    "# Calculate Mean And Standard Deviation Of Cross-Validation Accuracy Scores\n",
    "mean_accuracy = np.mean(cross_validation_accuracy_scores)\n",
    "standard_deviation_accuracy = np.std(cross_validation_accuracy_scores)\n",
    "print(\"Mean Accuracy:\", mean_accuracy)\n",
    "print(\"Standard Deviation of Accuracy:\", standard_deviation_accuracy)\n",
    "\n",
    "# Calculate Mean And Standard Deviation Of Cross-Validation F1 Scores\n",
    "mean_f1_scores = np.mean(cross_validation_f1_scores)\n",
    "standard_deviation_f1_scores = np.std(cross_validation_f1_scores)\n",
    "print(\"\\nMean F1 Score:\", mean_f1_scores)\n",
    "print(\"Standard Deviation of F1 Score:\", standard_deviation_f1_scores)"
   ]
  },
  {
   "cell_type": "markdown",
   "metadata": {},
   "source": [
    "Based on the Cross-Validation Report:\n",
    "  - model's performance evaluated across multiple subsets of the data, providing a more reliable estimate of its generalization ability\n",
    "  - model performs consistently across different data partitions"
   ]
  },
  {
   "cell_type": "code",
   "execution_count": null,
   "metadata": {},
   "outputs": [],
   "source": []
  }
 ],
 "metadata": {
  "kernelspec": {
   "display_name": "dev",
   "language": "python",
   "name": "python3"
  },
  "language_info": {
   "codemirror_mode": {
    "name": "ipython",
    "version": 3
   },
   "file_extension": ".py",
   "mimetype": "text/x-python",
   "name": "python",
   "nbconvert_exporter": "python",
   "pygments_lexer": "ipython3",
   "version": "3.10.13"
  }
 },
 "nbformat": 4,
 "nbformat_minor": 2
}
