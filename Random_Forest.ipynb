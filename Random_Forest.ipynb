{
 "cells": [
  {
   "cell_type": "code",
   "execution_count": 1,
   "metadata": {},
   "outputs": [],
   "source": [
    "# Import Dependencies\n",
    "import pandas as pd\n",
    "import numpy as np\n",
    "import sqlite3\n",
    "from sklearn.preprocessing import StandardScaler\n",
    "from sklearn.model_selection import train_test_split\n",
    "from sklearn.ensemble import RandomForestClassifier\n",
    "from sklearn.model_selection import KFold\n",
    "from sklearn.metrics import confusion_matrix, accuracy_score, classification_report, f1_score"
   ]
  },
  {
   "cell_type": "markdown",
   "metadata": {},
   "source": [
    "### Load/Preprocess Customer Churn Training Datasets ###"
   ]
  },
  {
   "cell_type": "code",
   "execution_count": 2,
   "metadata": {},
   "outputs": [
    {
     "data": {
      "text/html": [
       "<div>\n",
       "<style scoped>\n",
       "    .dataframe tbody tr th:only-of-type {\n",
       "        vertical-align: middle;\n",
       "    }\n",
       "\n",
       "    .dataframe tbody tr th {\n",
       "        vertical-align: top;\n",
       "    }\n",
       "\n",
       "    .dataframe thead th {\n",
       "        text-align: right;\n",
       "    }\n",
       "</style>\n",
       "<table border=\"1\" class=\"dataframe\">\n",
       "  <thead>\n",
       "    <tr style=\"text-align: right;\">\n",
       "      <th></th>\n",
       "      <th>customer_id</th>\n",
       "      <th>age</th>\n",
       "      <th>female</th>\n",
       "      <th>male</th>\n",
       "      <th>tenure</th>\n",
       "      <th>basic_subscription</th>\n",
       "      <th>standard_subscription</th>\n",
       "      <th>premium_subscription</th>\n",
       "      <th>monthly_contract</th>\n",
       "      <th>quarterly_contract</th>\n",
       "      <th>annual_contract</th>\n",
       "      <th>total_spend</th>\n",
       "      <th>payment_delay</th>\n",
       "      <th>usage_frequency</th>\n",
       "      <th>last_interaction</th>\n",
       "      <th>support_calls</th>\n",
       "      <th>churn</th>\n",
       "    </tr>\n",
       "  </thead>\n",
       "  <tbody>\n",
       "    <tr>\n",
       "      <th>0</th>\n",
       "      <td>2.0</td>\n",
       "      <td>30.0</td>\n",
       "      <td>1.0</td>\n",
       "      <td>0.0</td>\n",
       "      <td>39.0</td>\n",
       "      <td>0.0</td>\n",
       "      <td>1.0</td>\n",
       "      <td>0.0</td>\n",
       "      <td>0.0</td>\n",
       "      <td>0.0</td>\n",
       "      <td>1.0</td>\n",
       "      <td>932.0</td>\n",
       "      <td>18.0</td>\n",
       "      <td>14.0</td>\n",
       "      <td>17.0</td>\n",
       "      <td>5.0</td>\n",
       "      <td>1.0</td>\n",
       "    </tr>\n",
       "    <tr>\n",
       "      <th>1</th>\n",
       "      <td>3.0</td>\n",
       "      <td>65.0</td>\n",
       "      <td>1.0</td>\n",
       "      <td>0.0</td>\n",
       "      <td>49.0</td>\n",
       "      <td>1.0</td>\n",
       "      <td>0.0</td>\n",
       "      <td>0.0</td>\n",
       "      <td>1.0</td>\n",
       "      <td>0.0</td>\n",
       "      <td>0.0</td>\n",
       "      <td>557.0</td>\n",
       "      <td>8.0</td>\n",
       "      <td>1.0</td>\n",
       "      <td>6.0</td>\n",
       "      <td>10.0</td>\n",
       "      <td>1.0</td>\n",
       "    </tr>\n",
       "    <tr>\n",
       "      <th>2</th>\n",
       "      <td>4.0</td>\n",
       "      <td>55.0</td>\n",
       "      <td>1.0</td>\n",
       "      <td>0.0</td>\n",
       "      <td>14.0</td>\n",
       "      <td>1.0</td>\n",
       "      <td>0.0</td>\n",
       "      <td>0.0</td>\n",
       "      <td>0.0</td>\n",
       "      <td>1.0</td>\n",
       "      <td>0.0</td>\n",
       "      <td>185.0</td>\n",
       "      <td>18.0</td>\n",
       "      <td>4.0</td>\n",
       "      <td>3.0</td>\n",
       "      <td>6.0</td>\n",
       "      <td>1.0</td>\n",
       "    </tr>\n",
       "    <tr>\n",
       "      <th>3</th>\n",
       "      <td>5.0</td>\n",
       "      <td>58.0</td>\n",
       "      <td>0.0</td>\n",
       "      <td>1.0</td>\n",
       "      <td>38.0</td>\n",
       "      <td>0.0</td>\n",
       "      <td>1.0</td>\n",
       "      <td>0.0</td>\n",
       "      <td>1.0</td>\n",
       "      <td>0.0</td>\n",
       "      <td>0.0</td>\n",
       "      <td>396.0</td>\n",
       "      <td>7.0</td>\n",
       "      <td>21.0</td>\n",
       "      <td>29.0</td>\n",
       "      <td>7.0</td>\n",
       "      <td>1.0</td>\n",
       "    </tr>\n",
       "    <tr>\n",
       "      <th>4</th>\n",
       "      <td>6.0</td>\n",
       "      <td>23.0</td>\n",
       "      <td>0.0</td>\n",
       "      <td>1.0</td>\n",
       "      <td>32.0</td>\n",
       "      <td>1.0</td>\n",
       "      <td>0.0</td>\n",
       "      <td>0.0</td>\n",
       "      <td>1.0</td>\n",
       "      <td>0.0</td>\n",
       "      <td>0.0</td>\n",
       "      <td>617.0</td>\n",
       "      <td>8.0</td>\n",
       "      <td>20.0</td>\n",
       "      <td>20.0</td>\n",
       "      <td>5.0</td>\n",
       "      <td>1.0</td>\n",
       "    </tr>\n",
       "  </tbody>\n",
       "</table>\n",
       "</div>"
      ],
      "text/plain": [
       "   customer_id   age  female  male  tenure  basic_subscription  \\\n",
       "0          2.0  30.0     1.0   0.0    39.0                 0.0   \n",
       "1          3.0  65.0     1.0   0.0    49.0                 1.0   \n",
       "2          4.0  55.0     1.0   0.0    14.0                 1.0   \n",
       "3          5.0  58.0     0.0   1.0    38.0                 0.0   \n",
       "4          6.0  23.0     0.0   1.0    32.0                 1.0   \n",
       "\n",
       "   standard_subscription  premium_subscription  monthly_contract  \\\n",
       "0                    1.0                   0.0               0.0   \n",
       "1                    0.0                   0.0               1.0   \n",
       "2                    0.0                   0.0               0.0   \n",
       "3                    1.0                   0.0               1.0   \n",
       "4                    0.0                   0.0               1.0   \n",
       "\n",
       "   quarterly_contract  annual_contract  total_spend  payment_delay  \\\n",
       "0                 0.0              1.0        932.0           18.0   \n",
       "1                 0.0              0.0        557.0            8.0   \n",
       "2                 1.0              0.0        185.0           18.0   \n",
       "3                 0.0              0.0        396.0            7.0   \n",
       "4                 0.0              0.0        617.0            8.0   \n",
       "\n",
       "   usage_frequency  last_interaction  support_calls  churn  \n",
       "0             14.0              17.0            5.0    1.0  \n",
       "1              1.0               6.0           10.0    1.0  \n",
       "2              4.0               3.0            6.0    1.0  \n",
       "3             21.0              29.0            7.0    1.0  \n",
       "4             20.0              20.0            5.0    1.0  "
      ]
     },
     "execution_count": 2,
     "metadata": {},
     "output_type": "execute_result"
    }
   ],
   "source": [
    "# Load 'customer_churn_training' Into Pandas DataFrame\n",
    "conn=sqlite3.connect('Resources/customer_churn_data.db')\n",
    "query = \"SELECT * FROM customer_churn_training\"\n",
    "customer_churn_training = pd.read_sql(query, conn)\n",
    "conn.close()\n",
    "\n",
    "# Check That 'customer_churn_training' Loaded Succesfully\n",
    "customer_churn_training.head()"
   ]
  },
  {
   "cell_type": "code",
   "execution_count": 3,
   "metadata": {},
   "outputs": [],
   "source": [
    "# Define Features Set\n",
    "X = customer_churn_training.drop(columns=['customer_id',\n",
    "                                          'churn'])\n",
    "\n",
    "# Define Target\n",
    "y = customer_churn_training['churn']\n",
    "\n",
    "# Split Into Train And Test Sets\n",
    "X_train, X_test, y_train, y_test = train_test_split(X, y, random_state=5)"
   ]
  },
  {
   "cell_type": "code",
   "execution_count": 4,
   "metadata": {},
   "outputs": [
    {
     "data": {
      "text/html": [
       "<div>\n",
       "<style scoped>\n",
       "    .dataframe tbody tr th:only-of-type {\n",
       "        vertical-align: middle;\n",
       "    }\n",
       "\n",
       "    .dataframe tbody tr th {\n",
       "        vertical-align: top;\n",
       "    }\n",
       "\n",
       "    .dataframe thead th {\n",
       "        text-align: right;\n",
       "    }\n",
       "</style>\n",
       "<table border=\"1\" class=\"dataframe\">\n",
       "  <thead>\n",
       "    <tr style=\"text-align: right;\">\n",
       "      <th></th>\n",
       "      <th>0</th>\n",
       "      <th>1</th>\n",
       "      <th>2</th>\n",
       "      <th>3</th>\n",
       "      <th>4</th>\n",
       "      <th>5</th>\n",
       "      <th>6</th>\n",
       "      <th>7</th>\n",
       "      <th>8</th>\n",
       "      <th>9</th>\n",
       "      <th>10</th>\n",
       "      <th>11</th>\n",
       "      <th>12</th>\n",
       "      <th>13</th>\n",
       "      <th>14</th>\n",
       "    </tr>\n",
       "  </thead>\n",
       "  <tbody>\n",
       "    <tr>\n",
       "      <th>0</th>\n",
       "      <td>0.932569</td>\n",
       "      <td>-0.872191</td>\n",
       "      <td>0.872191</td>\n",
       "      <td>1.202683</td>\n",
       "      <td>1.442971</td>\n",
       "      <td>-0.714825</td>\n",
       "      <td>-0.71355</td>\n",
       "      <td>-0.495711</td>\n",
       "      <td>-0.817497</td>\n",
       "      <td>1.219264</td>\n",
       "      <td>0.923242</td>\n",
       "      <td>0.609492</td>\n",
       "      <td>0.955365</td>\n",
       "      <td>0.759635</td>\n",
       "      <td>-0.522279</td>\n",
       "    </tr>\n",
       "    <tr>\n",
       "      <th>1</th>\n",
       "      <td>0.048697</td>\n",
       "      <td>-0.872191</td>\n",
       "      <td>0.872191</td>\n",
       "      <td>1.434457</td>\n",
       "      <td>1.442971</td>\n",
       "      <td>-0.714825</td>\n",
       "      <td>-0.71355</td>\n",
       "      <td>-0.495711</td>\n",
       "      <td>-0.817497</td>\n",
       "      <td>1.219264</td>\n",
       "      <td>0.832685</td>\n",
       "      <td>0.003625</td>\n",
       "      <td>0.605847</td>\n",
       "      <td>0.759635</td>\n",
       "      <td>-0.196190</td>\n",
       "    </tr>\n",
       "    <tr>\n",
       "      <th>2</th>\n",
       "      <td>-1.638694</td>\n",
       "      <td>-0.872191</td>\n",
       "      <td>0.872191</td>\n",
       "      <td>-0.651507</td>\n",
       "      <td>1.442971</td>\n",
       "      <td>-0.714825</td>\n",
       "      <td>-0.71355</td>\n",
       "      <td>2.017305</td>\n",
       "      <td>-0.817497</td>\n",
       "      <td>-0.820167</td>\n",
       "      <td>-0.959368</td>\n",
       "      <td>0.245972</td>\n",
       "      <td>-1.141743</td>\n",
       "      <td>-1.333453</td>\n",
       "      <td>-0.522279</td>\n",
       "    </tr>\n",
       "    <tr>\n",
       "      <th>3</th>\n",
       "      <td>0.370105</td>\n",
       "      <td>1.146538</td>\n",
       "      <td>-1.146538</td>\n",
       "      <td>0.159701</td>\n",
       "      <td>1.442971</td>\n",
       "      <td>-0.714825</td>\n",
       "      <td>-0.71355</td>\n",
       "      <td>-0.495711</td>\n",
       "      <td>1.223246</td>\n",
       "      <td>-0.820167</td>\n",
       "      <td>1.317842</td>\n",
       "      <td>0.245972</td>\n",
       "      <td>-0.908731</td>\n",
       "      <td>-1.566018</td>\n",
       "      <td>-1.174458</td>\n",
       "    </tr>\n",
       "    <tr>\n",
       "      <th>4</th>\n",
       "      <td>1.896792</td>\n",
       "      <td>1.146538</td>\n",
       "      <td>-1.146538</td>\n",
       "      <td>1.260626</td>\n",
       "      <td>1.442971</td>\n",
       "      <td>-0.714825</td>\n",
       "      <td>-0.71355</td>\n",
       "      <td>2.017305</td>\n",
       "      <td>-0.817497</td>\n",
       "      <td>-0.820167</td>\n",
       "      <td>-2.098077</td>\n",
       "      <td>-1.208110</td>\n",
       "      <td>1.421389</td>\n",
       "      <td>1.689896</td>\n",
       "      <td>0.782079</td>\n",
       "    </tr>\n",
       "  </tbody>\n",
       "</table>\n",
       "</div>"
      ],
      "text/plain": [
       "         0         1         2         3         4         5        6   \\\n",
       "0  0.932569 -0.872191  0.872191  1.202683  1.442971 -0.714825 -0.71355   \n",
       "1  0.048697 -0.872191  0.872191  1.434457  1.442971 -0.714825 -0.71355   \n",
       "2 -1.638694 -0.872191  0.872191 -0.651507  1.442971 -0.714825 -0.71355   \n",
       "3  0.370105  1.146538 -1.146538  0.159701  1.442971 -0.714825 -0.71355   \n",
       "4  1.896792  1.146538 -1.146538  1.260626  1.442971 -0.714825 -0.71355   \n",
       "\n",
       "         7         8         9         10        11        12        13  \\\n",
       "0 -0.495711 -0.817497  1.219264  0.923242  0.609492  0.955365  0.759635   \n",
       "1 -0.495711 -0.817497  1.219264  0.832685  0.003625  0.605847  0.759635   \n",
       "2  2.017305 -0.817497 -0.820167 -0.959368  0.245972 -1.141743 -1.333453   \n",
       "3 -0.495711  1.223246 -0.820167  1.317842  0.245972 -0.908731 -1.566018   \n",
       "4  2.017305 -0.817497 -0.820167 -2.098077 -1.208110  1.421389  1.689896   \n",
       "\n",
       "         14  \n",
       "0 -0.522279  \n",
       "1 -0.196190  \n",
       "2 -0.522279  \n",
       "3 -1.174458  \n",
       "4  0.782079  "
      ]
     },
     "execution_count": 4,
     "metadata": {},
     "output_type": "execute_result"
    }
   ],
   "source": [
    "# Create StandardScaler Instance\n",
    "scaler = StandardScaler()\n",
    "\n",
    "# Fit Standard Scaler\n",
    "X_scaler = scaler.fit(X_train)\n",
    "\n",
    "# Scale Training And Testing Data\n",
    "X_train_scaled = X_scaler.transform(X_train)\n",
    "X_test_scaled = X_scaler.transform(X_test)\n",
    "\n",
    "X_train_scaled_df = pd.DataFrame(X_train_scaled)\n",
    "X_train_scaled_df.head()"
   ]
  },
  {
   "cell_type": "markdown",
   "metadata": {},
   "source": [
    "### Fit Random Forest Model ###"
   ]
  },
  {
   "cell_type": "code",
   "execution_count": 5,
   "metadata": {},
   "outputs": [],
   "source": [
    "# Create Random Forest Classifier\n",
    "rf_model = RandomForestClassifier(random_state=5)\n",
    "\n",
    "# Fit The Model\n",
    "rf_model = rf_model.fit(X_train_scaled, y_train)"
   ]
  },
  {
   "cell_type": "markdown",
   "metadata": {},
   "source": [
    "### Make Predictions Using the Random Forest Model ###"
   ]
  },
  {
   "cell_type": "code",
   "execution_count": 6,
   "metadata": {},
   "outputs": [],
   "source": [
    "# Make Predictions Using The Testing Data\n",
    "predictions = rf_model.predict(X_test_scaled)"
   ]
  },
  {
   "cell_type": "markdown",
   "metadata": {},
   "source": [
    "### Model Evaluation: Confusion Matrix and Classification Report ###"
   ]
  },
  {
   "cell_type": "code",
   "execution_count": 7,
   "metadata": {},
   "outputs": [
    {
     "name": "stdout",
     "output_type": "stream",
     "text": [
      "Confusion Matrix\n"
     ]
    },
    {
     "data": {
      "text/html": [
       "<div>\n",
       "<style scoped>\n",
       "    .dataframe tbody tr th:only-of-type {\n",
       "        vertical-align: middle;\n",
       "    }\n",
       "\n",
       "    .dataframe tbody tr th {\n",
       "        vertical-align: top;\n",
       "    }\n",
       "\n",
       "    .dataframe thead th {\n",
       "        text-align: right;\n",
       "    }\n",
       "</style>\n",
       "<table border=\"1\" class=\"dataframe\">\n",
       "  <thead>\n",
       "    <tr style=\"text-align: right;\">\n",
       "      <th></th>\n",
       "      <th>Predicted 0</th>\n",
       "      <th>Predicted 1</th>\n",
       "    </tr>\n",
       "  </thead>\n",
       "  <tbody>\n",
       "    <tr>\n",
       "      <th>Actual 0</th>\n",
       "      <td>47602</td>\n",
       "      <td>2</td>\n",
       "    </tr>\n",
       "    <tr>\n",
       "      <th>Actual 1</th>\n",
       "      <td>87</td>\n",
       "      <td>62517</td>\n",
       "    </tr>\n",
       "  </tbody>\n",
       "</table>\n",
       "</div>"
      ],
      "text/plain": [
       "          Predicted 0  Predicted 1\n",
       "Actual 0        47602            2\n",
       "Actual 1           87        62517"
      ]
     },
     "metadata": {},
     "output_type": "display_data"
    },
    {
     "name": "stdout",
     "output_type": "stream",
     "text": [
      "Accuracy Score : 0.9991924361207898\n",
      "\n",
      "Classification Report\n",
      "              precision    recall  f1-score   support\n",
      "\n",
      "         0.0       1.00      1.00      1.00     47604\n",
      "         1.0       1.00      1.00      1.00     62604\n",
      "\n",
      "    accuracy                           1.00    110208\n",
      "   macro avg       1.00      1.00      1.00    110208\n",
      "weighted avg       1.00      1.00      1.00    110208\n",
      "\n"
     ]
    }
   ],
   "source": [
    "# Calculate The Confusion Matrix\n",
    "confusion_matrix = confusion_matrix(y_test, predictions)\n",
    "confusion_matrix_df = pd.DataFrame(confusion_matrix,\n",
    "                                   index=['Actual 0', 'Actual 1'],\n",
    "                                   columns=['Predicted 0', 'Predicted 1'])\n",
    "\n",
    "# Calculate The Accuracy Score\n",
    "accuracy_score_confusion_matrix = accuracy_score(y_test, predictions)\n",
    "\n",
    "# Display Results\n",
    "print('Confusion Matrix')\n",
    "display(confusion_matrix_df)\n",
    "print(f'Accuracy Score : {accuracy_score_confusion_matrix}')\n",
    "print('\\nClassification Report')\n",
    "print(classification_report(y_test, predictions))"
   ]
  },
  {
   "cell_type": "markdown",
   "metadata": {},
   "source": [
    "Based on the Classification Report:\n",
    "  1. Precision:\n",
    "      - model predicts a customer to churn/stay, it is correct (almost) 100% of the time\n",
    "  2. Recall:\n",
    "      - model correctly identifies almost all customers in the dataset\n",
    "  3. F1-Score:\n",
    "      - (almost) perfect balance between precision and recall\n",
    "  4. Support:\n",
    "      - 47604 staying customers 62604 churned customers in the dataset\n",
    "\n",
    "Based on the Confusion Matrix:\n",
    "  - 47604 staying customers: 47602 correctly predicted and 2 incorrectly predicted\n",
    "  - 62604 churned customers: 62517 correctly predicted and 87 incorrectly predicted\n",
    "\n",
    "In summary:\n",
    "  - The model has high precision, recall, and F1-score for both classes, indicating good overall performance"
   ]
  },
  {
   "cell_type": "markdown",
   "metadata": {},
   "source": [
    "### Feature Importance ###"
   ]
  },
  {
   "cell_type": "code",
   "execution_count": 8,
   "metadata": {},
   "outputs": [
    {
     "data": {
      "text/plain": [
       "[(0.2954640449530647, 'support_calls'),\n",
       " (0.19407030993692637, 'total_spend'),\n",
       " (0.1378122243607828, 'age'),\n",
       " (0.12572066989332267, 'payment_delay'),\n",
       " (0.10178153708632044, 'monthly_contract'),\n",
       " (0.05008227082671983, 'last_interaction'),\n",
       " (0.02475764561325284, 'annual_contract'),\n",
       " (0.01886368996121879, 'quarterly_contract'),\n",
       " (0.017255887502808192, 'male'),\n",
       " (0.016167148345822984, 'female'),\n",
       " (0.011646512834936394, 'tenure'),\n",
       " (0.004671915688826578, 'usage_frequency'),\n",
       " (0.0008680663608828964, 'basic_subscription'),\n",
       " (0.00042575999810691325, 'premium_subscription'),\n",
       " (0.00041231663700746287, 'standard_subscription')]"
      ]
     },
     "execution_count": 8,
     "metadata": {},
     "output_type": "execute_result"
    }
   ],
   "source": [
    "# Sort Features By Importance\n",
    "importances = rf_model.feature_importances_\n",
    "sorted(zip(rf_model.feature_importances_, X.columns), reverse=True)"
   ]
  },
  {
   "cell_type": "code",
   "execution_count": 9,
   "metadata": {},
   "outputs": [
    {
     "data": {
      "text/plain": [
       "<Axes: title={'center': 'Features Importances'}, ylabel='1'>"
      ]
     },
     "execution_count": 9,
     "metadata": {},
     "output_type": "execute_result"
    },
    {
     "data": {
      "image/png": "[encoded data removed]",
      "text/plain": [
       "<Figure size 640x480 with 1 Axes>"
      ]
     },
     "metadata": {},
     "output_type": "display_data"
    }
   ],
   "source": [
    "# Visualize The Features By Importance\n",
    "importances_df = pd.DataFrame(sorted(zip(rf_model.feature_importances_, X.columns), reverse=True))\n",
    "importances_df.set_index(importances_df[1], inplace=True)\n",
    "importances_df.drop(columns=1, inplace=True)\n",
    "importances_df.rename(columns={0: 'Feature Importances'}, inplace=True)\n",
    "importances_sorted = importances_df.sort_values(by='Feature Importances')\n",
    "importances_sorted.plot(kind='barh', color='lightgreen', title= 'Features Importances', legend=False)"
   ]
  },
  {
   "cell_type": "markdown",
   "metadata": {},
   "source": [
    "### Model Evaluation: Cross-Validation ###"
   ]
  },
  {
   "cell_type": "code",
   "execution_count": 10,
   "metadata": {},
   "outputs": [
    {
     "name": "stdout",
     "output_type": "stream",
     "text": [
      "Mean Accuracy: 0.9997209819574685\n",
      "Standard Deviation of Accuracy: 9.968223490945388e-05\n",
      "\n",
      "Mean F1 Score: 0.9997540492962897\n",
      "Standard Deviation of F1 Score: 8.794084306731719e-05\n"
     ]
    }
   ],
   "source": [
    "# Establish Cross-Validation DataFrame Along With Features And Target Column Names\n",
    "customer_churn_cross_validation = customer_churn_training.copy()\n",
    "customer_churn_cross_validation.drop(columns=['customer_id'])\n",
    "feature_columns = customer_churn_cross_validation.columns.drop('churn')\n",
    "target_column = 'churn'\n",
    "\n",
    "# Initialize KFold Cross-Validation\n",
    "kf = KFold(n_splits=20, shuffle=True, random_state=5)\n",
    "\n",
    "# Initialize List To Store Cross-Validation Scores\n",
    "cross_validation_accuracy_scores = []\n",
    "cross_validation_f1_scores = []\n",
    "\n",
    "# Perform Cross-Validation\n",
    "for train_index, test_index in kf.split(customer_churn_cross_validation):\n",
    "    X_train, X_test = customer_churn_cross_validation[feature_columns].iloc[train_index], customer_churn_cross_validation[feature_columns].iloc[test_index]\n",
    "    y_train, y_test = customer_churn_cross_validation[target_column].iloc[train_index], customer_churn_cross_validation[target_column].iloc[test_index]\n",
    "    rf_model.fit(X_train, y_train)\n",
    "    y_pred = rf_model.predict(X_test)\n",
    "    accuracy = accuracy_score(y_test, y_pred)\n",
    "    cross_validation_accuracy_scores.append(accuracy)\n",
    "    f1_scores = f1_score(y_test, y_pred)\n",
    "    cross_validation_f1_scores.append(f1_scores)\n",
    "\n",
    "# Calculate Mean And Standard Deviation Of Cross-Validation Accuracy Scores\n",
    "mean_accuracy = np.mean(cross_validation_accuracy_scores)\n",
    "standard_deviation_accuracy = np.std(cross_validation_accuracy_scores)\n",
    "print(\"Mean Accuracy:\", mean_accuracy)\n",
    "print(\"Standard Deviation of Accuracy:\", standard_deviation_accuracy)\n",
    "\n",
    "# Calculate Mean And Standard Deviation Of Cross-Validation F1 Scores\n",
    "mean_f1_scores = np.mean(cross_validation_f1_scores)\n",
    "standard_deviation_f1_scores = np.std(cross_validation_f1_scores)\n",
    "print(\"\\nMean F1 Score:\", mean_f1_scores)\n",
    "print(\"Standard Deviation of F1 Score:\", standard_deviation_f1_scores)"
   ]
  },
  {
   "cell_type": "markdown",
   "metadata": {},
   "source": [
    "Based on the Cross-Validation Report:\n",
    "  - model's performance evaluated across multiple subsets of the data, providing a more reliable estimate of its generalization ability\n",
    "  - model performs consistently across different data partitions"
   ]
  }
 ],
 "metadata": {
  "kernelspec": {
   "display_name": "dev",
   "language": "python",
   "name": "python3"
  },
  "language_info": {
   "codemirror_mode": {
    "name": "ipython",
    "version": 3
   },
   "file_extension": ".py",
   "mimetype": "text/x-python",
   "name": "python",
   "nbconvert_exporter": "python",
   "pygments_lexer": "ipython3",
   "version": "3.10.13"
  }
 },
 "nbformat": 4,
 "nbformat_minor": 2
}
